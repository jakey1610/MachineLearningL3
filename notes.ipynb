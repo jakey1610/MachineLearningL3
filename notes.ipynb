{
  "nbformat": 4,
  "nbformat_minor": 0,
  "metadata": {
    "colab": {
      "name": "notes.ipynb",
      "provenance": [],
      "authorship_tag": "ABX9TyM+7/gwWoxPdIE14+yaQoIr",
      "include_colab_link": true
    },
    "kernelspec": {
      "name": "python3",
      "display_name": "Python 3"
    }
  },
  "cells": [
    {
      "cell_type": "markdown",
      "metadata": {
        "id": "view-in-github",
        "colab_type": "text"
      },
      "source": [
        "<a href=\"https://colab.research.google.com/github/jakey1610/MachineLearningL3/blob/master/notes.ipynb\" target=\"_parent\"><img src=\"https://colab.research.google.com/assets/colab-badge.svg\" alt=\"Open In Colab\"/></a>"
      ]
    },
    {
      "cell_type": "markdown",
      "metadata": {
        "colab_type": "text",
        "id": "vHOooJcdDs4T"
      },
      "source": [
        "**Define the Discriminatory Network model**"
      ]
    },
    {
      "cell_type": "code",
      "metadata": {
        "id": "RGbLY6X-NH4O",
        "colab_type": "code",
        "outputId": "d2254778-5bfd-44cb-a576-04fe3cac8515",
        "colab": {
          "base_uri": "https://localhost:8080/",
          "height": 34
        }
      },
      "source": [
        "# define the discriminatory model\n",
        "class DiscNet(nn.Module):\n",
        "    def __init__(self):\n",
        "        super(DiscNet, self).__init__()\n",
        "        layers = nn.ModuleList()\n",
        "        conv1 = nn.Sequential(nn.Conv2d(3,128,4,stride=2,padding=1,bias=False),nn.LeakyReLU(0.2,in_place=True))\n",
        "        layers.append(conv1)\n",
        "        conv2 = nn.Sequential(nn.Conv2d(128,256,4,stride=2,padding=1,bias=False),nn.BatchNorm2d(256),nn.LeakyReLU(0.2))\n",
        "        layers.append(conv2)\n",
        "        conv3 = nn.Sequential(nn.Conv2d(265,512,4,stride=2,padding=1,bias=False),nn.BatchNorm2d(512),nn.LeakyReLU(0.2))\n",
        "        layers.append(conv3)\n",
        "        conv4 = nn.Sequential(nn.Conv2d(512,1024,4,stride=2,padding=1,bias=False),nn.BatchNorm2d(1024),nn.LeakyReLU(0.2))\n",
        "        layers.append(conv4)\n",
        "        dec = nn.Sequential(nn.Linear(1024*4*4,3),nn.Sigmoid())\n",
        "        layers.append(dec)\n",
        "        self.layers = layers\n",
        "\n",
        "    def forward(self, x):\n",
        "        x = self.encode(x)\n",
        "        return x\n",
        "\n",
        "    def encode(self, x):\n",
        "        for i in range(4):\n",
        "            x = self.layers[i](x)\n",
        "        x = x.view(-1,1024*4*4)\n",
        "        x = self.layers[4](x)\n",
        "        return x\n",
        "\n",
        "print(f'> Number of network parameters {len(torch.nn.utils.parameters_to_vector(N.parameters()))}')"
      ],
      "execution_count": 0,
      "outputs": [
        {
          "output_type": "stream",
          "text": [
            "> Number of network parameters 11142659\n"
          ],
          "name": "stdout"
        }
      ]
    },
    {
      "cell_type": "markdown",
      "metadata": {
        "id": "7K7nIIUoS-0x",
        "colab_type": "text"
      },
      "source": [
        "**Define the Generative Network**"
      ]
    },
    {
      "cell_type": "code",
      "metadata": {
        "id": "WpMZm-qWS2nn",
        "colab_type": "code",
        "colab": {}
      },
      "source": [
        "class GenNet(nn.Module):\n",
        "  def __init__(self):\n",
        "    super(GenNet,self).__init__()\n",
        "    layers = nn.ModuleList()\n",
        "    linear = nn.Linear(100,1024*4*4)\n",
        "    layers.append(linear)\n",
        "    conv1 = nn.Sequential(nn.ConvTranspose2d(1024,512,4,stride=2,padding=1,bias=False),nn.BatchNorm2d(512),nn.ReLU(inplace=True))\n",
        "    layers.append(conv1)\n",
        "    conv2 = nn.Sequential(nn.ConvTranspose2d(512,256,4,stride=2,padding=1,bias=False),nn.BatchNorm2d(256),nn.ReLU(inplace=True))\n",
        "    layers.append(conv2)\n",
        "    conv3 = nn.Sequential(nn.ConvTranspose2d(256,128,4,stride=2,padding=1,bias=False),nn.BatchNorm2d(128),nn.ReLU(inplace=True))\n",
        "    layers.append(conv3)\n",
        "    conv4 = nn.Sequential(nn.ConvTranspose2d(128,1,4,stride=2,padding=1,bias=False))\n",
        "    layers.append(conv4)\n",
        "    dec = nn.Tanh()\n",
        "    layers.append(dec)\n",
        "    self.layers = layers\n",
        "    \n",
        "  def forward(self,x):\n",
        "    x = self.layers[0](x)\n",
        "    x = x.view(x.shape[0],1024,4,4)\n",
        "    for i in range(4):\n",
        "      x = self.layers[i+1](x)\n",
        "    return self.layers[-1](x)\n"
      ],
      "execution_count": 0,
      "outputs": []
    }
  ]
}